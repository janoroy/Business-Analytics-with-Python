{
  "nbformat": 4,
  "nbformat_minor": 0,
  "metadata": {
    "colab": {
      "provenance": [],
      "authorship_tag": "ABX9TyMwN0wt2ozhU1qMGFGSoxA4",
      "include_colab_link": true
    },
    "kernelspec": {
      "name": "python3",
      "display_name": "Python 3"
    },
    "language_info": {
      "name": "python"
    }
  },
  "cells": [
    {
      "cell_type": "markdown",
      "metadata": {
        "id": "view-in-github",
        "colab_type": "text"
      },
      "source": [
        "<a href=\"https://colab.research.google.com/github/janoroy/Business-Analytics-with-Python/blob/main/Untitled8.ipynb\" target=\"_parent\"><img src=\"https://colab.research.google.com/assets/colab-badge.svg\" alt=\"Open In Colab\"/></a>"
      ]
    },
    {
      "cell_type": "code",
      "execution_count": null,
      "metadata": {
        "colab": {
          "base_uri": "https://localhost:8080/"
        },
        "id": "a5n6DOlix3dH",
        "outputId": "00f5662f-bdcd-44b7-e780-d60a4daff1e3"
      },
      "outputs": [
        {
          "output_type": "stream",
          "name": "stdout",
          "text": [
            "This is \"python\"programming\n"
          ]
        }
      ],
      "source": [
        "x=\"This is \\\"python\\\"programming\"\n",
        "print(x)"
      ]
    },
    {
      "cell_type": "code",
      "source": [
        "print(\"\\\"Jano\\\" Roy\")"
      ],
      "metadata": {
        "colab": {
          "base_uri": "https://localhost:8080/"
        },
        "id": "g5lmNBlUyai6",
        "outputId": "ea39f2f3-455e-4687-e5ba-3665c07cf36c"
      },
      "execution_count": null,
      "outputs": [
        {
          "output_type": "stream",
          "name": "stdout",
          "text": [
            "\"Jano\" Roy\n"
          ]
        }
      ]
    },
    {
      "cell_type": "code",
      "source": [
        "print(\"he is a \\\"doctor\\\"\")"
      ],
      "metadata": {
        "colab": {
          "base_uri": "https://localhost:8080/"
        },
        "id": "ms3vl9rYz3LT",
        "outputId": "76ef2ec6-0c73-4d1a-9978-8d044259fd7f"
      },
      "execution_count": null,
      "outputs": [
        {
          "output_type": "stream",
          "name": "stdout",
          "text": [
            "he is a \"doctor\"\n"
          ]
        }
      ]
    },
    {
      "cell_type": "markdown",
      "source": [],
      "metadata": {
        "id": "gVofO8gW1_fA"
      }
    },
    {
      "cell_type": "code",
      "source": [
        "print(\"Jano\\n roy\")"
      ],
      "metadata": {
        "colab": {
          "base_uri": "https://localhost:8080/"
        },
        "id": "4NoiPNhY0j6M",
        "outputId": "a7a6374d-4db9-45e3-f80a-90bd0ceccb15"
      },
      "execution_count": null,
      "outputs": [
        {
          "output_type": "stream",
          "name": "stdout",
          "text": [
            "Jano\n",
            " roy\n"
          ]
        }
      ]
    },
    {
      "cell_type": "code",
      "source": [
        "x=[\"Jano\",\"Roy\"]\n",
        "x.insert(2,\"sandra\")\n",
        "print(x)"
      ],
      "metadata": {
        "colab": {
          "base_uri": "https://localhost:8080/"
        },
        "id": "Vwbxew2l1Lo9",
        "outputId": "46b969c3-0bba-40ef-d795-0f071f06c0cd"
      },
      "execution_count": null,
      "outputs": [
        {
          "output_type": "stream",
          "name": "stdout",
          "text": [
            "['Jano', 'Roy', 'sandra']\n"
          ]
        }
      ]
    },
    {
      "cell_type": "code",
      "source": [
        "x=[\"Jano\",\"Roy\",]\n",
        "\n",
        "y=input(\"Enter a name\")\n",
        "n=int(input(\"enter an index\"))\n",
        "x.insert(n,y)\n",
        "print(x)"
      ],
      "metadata": {
        "colab": {
          "base_uri": "https://localhost:8080/"
        },
        "id": "Ts5g2Swx2Cg_",
        "outputId": "24a2fe22-0a5b-489e-e327-60df832b795d"
      },
      "execution_count": null,
      "outputs": [
        {
          "output_type": "stream",
          "name": "stdout",
          "text": [
            "Enter a nameSandra\n",
            "enter an index2\n",
            "['Jano', 'Roy', 'Sandra']\n"
          ]
        }
      ]
    },
    {
      "cell_type": "code",
      "source": [
        "def sandra():\n",
        "  y=int(input(\"Enter Index\"))\n",
        "  n=input(\"Enter a name:\")\n",
        "  x.insert(y,n)"
      ],
      "metadata": {
        "id": "08dNj0_68OiX"
      },
      "execution_count": null,
      "outputs": []
    },
    {
      "cell_type": "code",
      "source": [
        "sandra()"
      ],
      "metadata": {
        "colab": {
          "base_uri": "https://localhost:8080/"
        },
        "id": "J_062lDJ-bAJ",
        "outputId": "9c9b584c-c864-43b7-c3e8-be72449ab459"
      },
      "execution_count": null,
      "outputs": [
        {
          "name": "stdout",
          "output_type": "stream",
          "text": [
            "Enter Index3\n",
            "Enter a name:Jano\n"
          ]
        }
      ]
    },
    {
      "cell_type": "code",
      "source": [
        "def Jano():\n",
        "  a=int(input(\"enter number: \"))\n",
        "  b=int(input(\"enter a number\"))\n",
        "  print(a+b)\n",
        "  print(a-b)\n",
        "  print(a/b)\n",
        "  print(a*b)"
      ],
      "metadata": {
        "id": "vWw2AjoE-dmL"
      },
      "execution_count": null,
      "outputs": []
    },
    {
      "cell_type": "code",
      "source": [
        "Jano()"
      ],
      "metadata": {
        "colab": {
          "base_uri": "https://localhost:8080/"
        },
        "id": "mQH-yAacAEQN",
        "outputId": "97530acb-7ebc-4722-a111-3230798b9f12"
      },
      "execution_count": null,
      "outputs": [
        {
          "output_type": "stream",
          "name": "stdout",
          "text": [
            "enter number: 50\n",
            "enter a number40\n",
            "90\n",
            "10\n",
            "1.25\n",
            "2000\n"
          ]
        }
      ]
    },
    {
      "cell_type": "code",
      "source": [
        "def maths(a,b):\n",
        "  print(a+b)"
      ],
      "metadata": {
        "id": "o1yxGjdKAGM8"
      },
      "execution_count": 31,
      "outputs": []
    },
    {
      "cell_type": "code",
      "source": [
        "x=int(input(\"enter first value\"))\n",
        "y=int(input(\"enter second value\"))\n",
        "maths(x,y)"
      ],
      "metadata": {
        "colab": {
          "base_uri": "https://localhost:8080/"
        },
        "id": "2cEsjbaVEJ0-",
        "outputId": "794f37ec-c8c2-44a9-bb9c-5b0a4eec9c6d"
      },
      "execution_count": 32,
      "outputs": [
        {
          "output_type": "stream",
          "name": "stdout",
          "text": [
            "enter first value10\n",
            "enter second value20\n",
            "30\n"
          ]
        }
      ]
    },
    {
      "cell_type": "code",
      "source": [],
      "metadata": {
        "id": "24WQmaTpEvkw"
      },
      "execution_count": null,
      "outputs": []
    }
  ]
}