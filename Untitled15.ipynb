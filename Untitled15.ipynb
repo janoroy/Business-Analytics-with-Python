{
  "nbformat": 4,
  "nbformat_minor": 0,
  "metadata": {
    "colab": {
      "provenance": [],
      "authorship_tag": "ABX9TyMlJP+RDKXUyaQ59oPJ+Sx5",
      "include_colab_link": true
    },
    "kernelspec": {
      "name": "python3",
      "display_name": "Python 3"
    },
    "language_info": {
      "name": "python"
    }
  },
  "cells": [
    {
      "cell_type": "markdown",
      "metadata": {
        "id": "view-in-github",
        "colab_type": "text"
      },
      "source": [
        "<a href=\"https://colab.research.google.com/github/janoroy/Business-Analytics-with-Python/blob/main/Untitled15.ipynb\" target=\"_parent\"><img src=\"https://colab.research.google.com/assets/colab-badge.svg\" alt=\"Open In Colab\"/></a>"
      ]
    },
    {
      "cell_type": "code",
      "execution_count": 2,
      "metadata": {
        "id": "LM5jMfpjH3hv"
      },
      "outputs": [],
      "source": [
        "import numpy as np\n",
        "import matplotlib.pyplot as plt\n",
        "import pandas as pd"
      ]
    },
    {
      "cell_type": "code",
      "source": [
        "dataset = pd.read_csv('NKE.csv')"
      ],
      "metadata": {
        "id": "9YHoLBI0InIu"
      },
      "execution_count": 3,
      "outputs": []
    },
    {
      "cell_type": "code",
      "source": [
        "x = dataset.iloc[:, :-1].values"
      ],
      "metadata": {
        "id": "3Og-aXRVIxT5"
      },
      "execution_count": 4,
      "outputs": []
    },
    {
      "cell_type": "code",
      "source": [
        "\n",
        "x"
      ],
      "metadata": {
        "colab": {
          "base_uri": "https://localhost:8080/"
        },
        "id": "QPerh9cfI0Wp",
        "outputId": "f6d0001c-64c7-4501-b4d3-0feab5222b9a"
      },
      "execution_count": 5,
      "outputs": [
        {
          "output_type": "execute_result",
          "data": {
            "text/plain": [
              "array([[  1.],\n",
              "       [  2.],\n",
              "       [  3.],\n",
              "       [  4.],\n",
              "       [  5.],\n",
              "       [  6.],\n",
              "       [  7.],\n",
              "       [  8.],\n",
              "       [  9.],\n",
              "       [ 10.],\n",
              "       [ 11.],\n",
              "       [ 12.],\n",
              "       [ 13.],\n",
              "       [ 14.],\n",
              "       [ 15.],\n",
              "       [ 16.],\n",
              "       [ 17.],\n",
              "       [ 18.],\n",
              "       [ 19.],\n",
              "       [ 20.],\n",
              "       [ 21.],\n",
              "       [ 22.],\n",
              "       [ 23.],\n",
              "       [ 24.],\n",
              "       [ 25.],\n",
              "       [ 26.],\n",
              "       [ 27.],\n",
              "       [ 28.],\n",
              "       [ 29.],\n",
              "       [ 30.],\n",
              "       [ 31.],\n",
              "       [ 32.],\n",
              "       [ 33.],\n",
              "       [ 34.],\n",
              "       [ 35.],\n",
              "       [ 36.],\n",
              "       [ 37.],\n",
              "       [ 38.],\n",
              "       [ 39.],\n",
              "       [ 40.],\n",
              "       [ 41.],\n",
              "       [ 42.],\n",
              "       [ 43.],\n",
              "       [ 44.],\n",
              "       [ 45.],\n",
              "       [ 46.],\n",
              "       [ 47.],\n",
              "       [ 48.],\n",
              "       [ 49.],\n",
              "       [ 50.],\n",
              "       [ 51.],\n",
              "       [ 52.],\n",
              "       [ 53.],\n",
              "       [ 54.],\n",
              "       [ 55.],\n",
              "       [ 56.],\n",
              "       [ 57.],\n",
              "       [ 58.],\n",
              "       [ 59.],\n",
              "       [ 60.],\n",
              "       [ 61.],\n",
              "       [ 62.],\n",
              "       [ 63.],\n",
              "       [ 64.],\n",
              "       [ 65.],\n",
              "       [ 66.],\n",
              "       [ 67.],\n",
              "       [ 68.],\n",
              "       [ 69.],\n",
              "       [ 70.],\n",
              "       [ 71.],\n",
              "       [ 72.],\n",
              "       [ 73.],\n",
              "       [ 74.],\n",
              "       [ 75.],\n",
              "       [ 76.],\n",
              "       [ 77.],\n",
              "       [ 78.],\n",
              "       [ 79.],\n",
              "       [ 80.],\n",
              "       [ 81.],\n",
              "       [ 82.],\n",
              "       [ 83.],\n",
              "       [ 84.],\n",
              "       [ 85.],\n",
              "       [ 86.],\n",
              "       [ 87.],\n",
              "       [ 88.],\n",
              "       [ 89.],\n",
              "       [ 90.],\n",
              "       [ 91.],\n",
              "       [ 92.],\n",
              "       [ 93.],\n",
              "       [ 94.],\n",
              "       [ 95.],\n",
              "       [ 96.],\n",
              "       [ 97.],\n",
              "       [ 98.],\n",
              "       [ 99.],\n",
              "       [100.],\n",
              "       [101.],\n",
              "       [102.],\n",
              "       [103.],\n",
              "       [104.],\n",
              "       [105.],\n",
              "       [106.],\n",
              "       [107.],\n",
              "       [108.],\n",
              "       [109.],\n",
              "       [110.],\n",
              "       [111.],\n",
              "       [112.],\n",
              "       [113.],\n",
              "       [114.],\n",
              "       [115.],\n",
              "       [116.],\n",
              "       [117.],\n",
              "       [118.],\n",
              "       [119.],\n",
              "       [120.],\n",
              "       [121.],\n",
              "       [122.],\n",
              "       [123.],\n",
              "       [124.],\n",
              "       [125.],\n",
              "       [126.],\n",
              "       [127.],\n",
              "       [128.],\n",
              "       [129.],\n",
              "       [130.],\n",
              "       [131.],\n",
              "       [132.],\n",
              "       [133.],\n",
              "       [134.],\n",
              "       [135.],\n",
              "       [136.],\n",
              "       [137.],\n",
              "       [138.],\n",
              "       [139.],\n",
              "       [140.],\n",
              "       [141.],\n",
              "       [142.],\n",
              "       [143.],\n",
              "       [144.],\n",
              "       [145.],\n",
              "       [146.],\n",
              "       [147.],\n",
              "       [148.],\n",
              "       [149.],\n",
              "       [150.],\n",
              "       [151.],\n",
              "       [152.],\n",
              "       [153.],\n",
              "       [154.],\n",
              "       [155.],\n",
              "       [156.],\n",
              "       [157.],\n",
              "       [158.],\n",
              "       [159.],\n",
              "       [160.],\n",
              "       [161.],\n",
              "       [162.],\n",
              "       [163.],\n",
              "       [164.],\n",
              "       [165.],\n",
              "       [166.],\n",
              "       [167.],\n",
              "       [168.],\n",
              "       [169.],\n",
              "       [170.],\n",
              "       [171.],\n",
              "       [172.],\n",
              "       [173.],\n",
              "       [174.],\n",
              "       [175.],\n",
              "       [176.],\n",
              "       [177.],\n",
              "       [178.],\n",
              "       [179.],\n",
              "       [180.],\n",
              "       [181.],\n",
              "       [182.],\n",
              "       [183.],\n",
              "       [184.],\n",
              "       [185.],\n",
              "       [186.],\n",
              "       [187.],\n",
              "       [188.],\n",
              "       [189.],\n",
              "       [190.],\n",
              "       [191.],\n",
              "       [192.],\n",
              "       [193.],\n",
              "       [194.],\n",
              "       [195.],\n",
              "       [196.],\n",
              "       [197.],\n",
              "       [198.],\n",
              "       [199.],\n",
              "       [200.],\n",
              "       [201.],\n",
              "       [202.],\n",
              "       [203.],\n",
              "       [204.],\n",
              "       [205.],\n",
              "       [206.],\n",
              "       [207.],\n",
              "       [208.],\n",
              "       [209.],\n",
              "       [210.],\n",
              "       [211.],\n",
              "       [212.],\n",
              "       [213.],\n",
              "       [214.],\n",
              "       [215.],\n",
              "       [216.],\n",
              "       [217.],\n",
              "       [218.],\n",
              "       [219.],\n",
              "       [220.],\n",
              "       [221.],\n",
              "       [222.],\n",
              "       [223.],\n",
              "       [224.],\n",
              "       [225.],\n",
              "       [226.],\n",
              "       [227.],\n",
              "       [228.],\n",
              "       [229.],\n",
              "       [230.],\n",
              "       [231.],\n",
              "       [232.],\n",
              "       [233.],\n",
              "       [234.],\n",
              "       [235.],\n",
              "       [236.],\n",
              "       [237.],\n",
              "       [238.],\n",
              "       [239.],\n",
              "       [240.],\n",
              "       [241.],\n",
              "       [242.],\n",
              "       [243.],\n",
              "       [244.],\n",
              "       [245.],\n",
              "       [246.],\n",
              "       [247.],\n",
              "       [248.],\n",
              "       [249.],\n",
              "       [250.]])"
            ]
          },
          "metadata": {},
          "execution_count": 5
        }
      ]
    },
    {
      "cell_type": "code",
      "source": [
        "y = dataset.iloc[:, -1].values"
      ],
      "metadata": {
        "id": "FPX-NSJqI1a6"
      },
      "execution_count": 6,
      "outputs": []
    },
    {
      "cell_type": "code",
      "source": [
        "y"
      ],
      "metadata": {
        "colab": {
          "base_uri": "https://localhost:8080/"
        },
        "id": "Jn85pofSI4gh",
        "outputId": "9a1cf3ac-80bb-4d0d-96d3-310507820d45"
      },
      "execution_count": 7,
      "outputs": [
        {
          "output_type": "execute_result",
          "data": {
            "text/plain": [
              "array([137.059998, 136.720001, 132.979996, 136.740005, 132.509995,\n",
              "       131.      , 125.239998, 127.379997, 124.019997, 127.010002,\n",
              "       121.529999, 119.839996, 122.849998, 124.940002, 126.849998,\n",
              "       129.720001, 137.279999, 132.639999, 133.75    , 133.050003,\n",
              "       133.759995, 137.850006, 138.979996, 137.830002, 134.449997,\n",
              "       133.050003, 134.039993, 130.050003, 127.43    , 129.440002,\n",
              "       125.099998, 125.199997, 125.040001, 129.080002, 132.      ,\n",
              "       133.089996, 137.960007, 138.550003, 134.330002, 127.800003,\n",
              "       126.949997, 121.089996, 123.169998, 126.220001, 124.43    ,\n",
              "       125.019997, 122.540001, 124.110001, 113.739998, 112.970001,\n",
              "       113.029999, 110.699997, 105.18    , 110.260002, 112.980003,\n",
              "       115.5     , 112.5     , 108.949997, 108.669998, 107.470001,\n",
              "       107.110001, 103.459999, 110.      , 114.220001, 117.5     ,\n",
              "       119.830002, 119.510002, 120.209999, 121.5     , 118.660004,\n",
              "       120.900002, 121.349998, 117.089996, 110.389999, 110.370003,\n",
              "       112.160004, 109.510002, 106.150002, 108.459999, 105.400002,\n",
              "       105.010002, 109.93    , 112.239998, 108.199997, 102.989998,\n",
              "       101.940002, 101.639999, 100.449997, 104.889999, 105.650002,\n",
              "       106.580002, 106.599998, 105.010002, 101.940002, 103.110001,\n",
              "       104.760002, 106.190002, 105.599998, 109.220001, 110.370003,\n",
              "       111.93    , 109.610001, 107.480003, 106.300003, 109.43    ,\n",
              "       112.760002, 114.      , 113.57    , 113.419998, 114.639999,\n",
              "       112.790001, 114.      , 111.32    , 113.239998, 114.879997,\n",
              "       114.389999, 115.449997, 115.940002, 116.769997, 116.      ,\n",
              "       115.5     , 111.019997, 110.839996, 110.68    , 111.900002,\n",
              "       113.309998, 106.809998, 108.970001, 107.959999, 105.800003,\n",
              "       107.459999, 105.440002, 105.080002, 107.      , 109.379997,\n",
              "       111.379997, 108.839996, 106.129997, 106.150002, 104.07    ,\n",
              "       103.690002, 103.82    , 102.669998,  99.790001,  96.919998,\n",
              "        96.089996,  97.07    ,  97.110001,  98.110001,  83.300003,\n",
              "        83.129997,  87.699997,  87.489998,  90.489998,  88.540001,\n",
              "        87.760002,  86.040001,  88.      ,  86.389999,  90.510002,\n",
              "        89.529999,  92.599998,  88.260002,  89.470001,  87.019997,\n",
              "        87.790001,  88.029999,  90.779999,  92.879997,  91.199997,\n",
              "        93.      ,  95.690002,  93.129997,  89.970001,  94.449997,\n",
              "        96.309998,  94.440002,  92.669998,  96.330002, 100.309998,\n",
              "       105.199997, 107.989998, 105.25    , 104.110001, 107.629997,\n",
              "       104.610001, 104.620003, 106.      , 106.449997, 105.25    ,\n",
              "       105.370003, 107.080002, 110.089996, 108.650002, 111.019997,\n",
              "       109.650002, 107.32    , 108.599998, 110.220001, 110.099998,\n",
              "       115.610001, 113.699997, 109.190002, 106.870003, 104.989998,\n",
              "       103.      , 116.760002, 114.290001, 116.110001, 116.470001,\n",
              "       117.580002, 116.080002, 116.559998, 118.550003, 119.959999,\n",
              "       120.279999, 122.      , 125.      , 125.209999, 126.32    ,\n",
              "       128.350006, 126.660004, 128.      , 127.800003, 124.790001,\n",
              "       124.68    , 126.900002, 123.580002, 125.860001, 128.460007,\n",
              "       127.07    , 126.5     , 126.419998, 127.900002, 130.449997,\n",
              "       126.790001, 125.519997, 123.959999, 123.379997, 124.709999,\n",
              "       121.510002, 122.82    , 123.949997, 124.900002, 125.43    ,\n",
              "       123.709999, 123.279999, 121.099998, 120.760002, 117.970001])"
            ]
          },
          "metadata": {},
          "execution_count": 7
        }
      ]
    },
    {
      "cell_type": "code",
      "source": [
        "from sklearn.model_selection import train_test_split\n",
        "x_train, x_test, y_train, y_test = train_test_split(x, y, test_size = 0.2, random_state = 0)"
      ],
      "metadata": {
        "id": "GHVhj_KpI5Lx"
      },
      "execution_count": 8,
      "outputs": []
    },
    {
      "cell_type": "code",
      "source": [
        "from sklearn.linear_model import LinearRegression\n",
        "regressor = LinearRegression()\n",
        "regressor.fit(x_train, y_train)\n",
        "     "
      ],
      "metadata": {
        "colab": {
          "base_uri": "https://localhost:8080/"
        },
        "id": "lTLD0MV9I8Up",
        "outputId": "49ba5f6c-5e61-4ff2-cb6e-b951e2108c52"
      },
      "execution_count": 9,
      "outputs": [
        {
          "output_type": "execute_result",
          "data": {
            "text/plain": [
              "LinearRegression()"
            ]
          },
          "metadata": {},
          "execution_count": 9
        }
      ]
    },
    {
      "cell_type": "code",
      "source": [
        "y_pred = regressor.predict(x_test)"
      ],
      "metadata": {
        "id": "Zc_CI1FuI-zx"
      },
      "execution_count": 10,
      "outputs": []
    },
    {
      "cell_type": "code",
      "source": [
        "plt.scatter(x_test, y_test, color = 'red')\n",
        "plt.scatter(x_train, y_train, color = 'green')\n",
        "plt.plot(x_test, y_pred, color = 'blue')\n",
        "plt.xlabel('Volume')\n",
        "plt.ylabel('Profit')\n",
        "plt.show()"
      ],
      "metadata": {
        "colab": {
          "base_uri": "https://localhost:8080/",
          "height": 279
        },
        "id": "4dQ8Ll5yJA6p",
        "outputId": "060c8c7b-f0d4-4c61-a731-8dccbc501d63"
      },
      "execution_count": 11,
      "outputs": [
        {
          "output_type": "display_data",
          "data": {
            "text/plain": [
              "<Figure size 432x288 with 1 Axes>"
            ],
            "image/png": "[encoded data removed]"
          },
          "metadata": {
            "needs_background": "light"
          }
        }
      ]
    },
    {
      "cell_type": "code",
      "source": [],
      "metadata": {
        "id": "xaVHdeoRPoNX"
      },
      "execution_count": null,
      "outputs": []
    }
  ]
}