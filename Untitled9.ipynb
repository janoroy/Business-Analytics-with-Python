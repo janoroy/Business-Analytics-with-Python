{
  "nbformat": 4,
  "nbformat_minor": 0,
  "metadata": {
    "colab": {
      "provenance": [],
      "authorship_tag": "ABX9TyP+dGqBuJCDQhsT4kwO4WjN",
      "include_colab_link": true
    },
    "kernelspec": {
      "name": "python3",
      "display_name": "Python 3"
    },
    "language_info": {
      "name": "python"
    }
  },
  "cells": [
    {
      "cell_type": "markdown",
      "metadata": {
        "id": "view-in-github",
        "colab_type": "text"
      },
      "source": [
        "<a href=\"https://colab.research.google.com/github/janoroy/Business-Analytics-with-Python/blob/main/Untitled9.ipynb\" target=\"_parent\"><img src=\"https://colab.research.google.com/assets/colab-badge.svg\" alt=\"Open In Colab\"/></a>"
      ]
    },
    {
      "cell_type": "code",
      "execution_count": 1,
      "metadata": {
        "id": "cvkOaY1BaVSs"
      },
      "outputs": [],
      "source": [
        "x=[2,5,8,7,4,58]"
      ]
    },
    {
      "cell_type": "code",
      "source": [
        "def abc(x):\n",
        "    print(\"The sum of the number is:\",sum(x))\n"
      ],
      "metadata": {
        "id": "BubFmkRrag5E"
      },
      "execution_count": 3,
      "outputs": []
    },
    {
      "cell_type": "code",
      "source": [
        "abc(x)"
      ],
      "metadata": {
        "colab": {
          "base_uri": "https://localhost:8080/"
        },
        "id": "pQhjZq8ya-CU",
        "outputId": "65e56197-bd7a-401b-e1d6-5d9cd94e842f"
      },
      "execution_count": 4,
      "outputs": [
        {
          "output_type": "stream",
          "name": "stdout",
          "text": [
            "The sum of the number is: 84\n"
          ]
        }
      ]
    },
    {
      "cell_type": "code",
      "source": [
        "def asd(x):\n",
        "  for i in x:\n",
        "    if i%2==0:\n",
        "       print(i,\"is even number\")\n",
        "    else:\n",
        "         print(i,\"is odd number\")\n",
        "    "
      ],
      "metadata": {
        "id": "RgUHyWd4bCHc"
      },
      "execution_count": 6,
      "outputs": []
    },
    {
      "cell_type": "code",
      "source": [
        "asd(x)"
      ],
      "metadata": {
        "colab": {
          "base_uri": "https://localhost:8080/"
        },
        "id": "tjksTSD1fNi3",
        "outputId": "57ac9fec-f420-4a22-a76b-3be5eb0b6eb6"
      },
      "execution_count": 7,
      "outputs": [
        {
          "output_type": "stream",
          "name": "stdout",
          "text": [
            "2 is even number\n",
            "5 is odd number\n",
            "8 is even number\n",
            "7 is odd number\n",
            "4 is even number\n",
            "58 is even number\n"
          ]
        }
      ]
    },
    {
      "cell_type": "code",
      "source": [
        "b=\"Python is a high-level, general-purpose programming language.\"\n"
      ],
      "metadata": {
        "id": "yYtMWE__fWh6"
      },
      "execution_count": 8,
      "outputs": []
    },
    {
      "cell_type": "code",
      "source": [
        "def zxc(b):\n",
        "  for i in b:\n",
        "    if ((i==\"a\") or(i==\"e\")or(i==\"i\")or(i==\"0\")or(i==\"u\")):\n",
        "       print(\"The alphabet is vowels:\",i)\n",
        "    else:\n",
        "        print(\"it is not vowels\")"
      ],
      "metadata": {
        "id": "zNH7EiY4lvaa"
      },
      "execution_count": 12,
      "outputs": []
    },
    {
      "cell_type": "code",
      "source": [
        "zxc(b)"
      ],
      "metadata": {
        "colab": {
          "base_uri": "https://localhost:8080/"
        },
        "id": "e9sdXL2umeMK",
        "outputId": "d8b93a73-b27f-44f7-8cbb-f1ea36bd691a"
      },
      "execution_count": 13,
      "outputs": [
        {
          "output_type": "stream",
          "name": "stdout",
          "text": [
            "it is not vowels\n",
            "it is not vowels\n",
            "it is not vowels\n",
            "it is not vowels\n",
            "it is not vowels\n",
            "it is not vowels\n",
            "it is not vowels\n",
            "The alphabet is vowels: i\n",
            "it is not vowels\n",
            "it is not vowels\n",
            "The alphabet is vowels: a\n",
            "it is not vowels\n",
            "it is not vowels\n",
            "The alphabet is vowels: i\n",
            "it is not vowels\n",
            "it is not vowels\n",
            "it is not vowels\n",
            "it is not vowels\n",
            "The alphabet is vowels: e\n",
            "it is not vowels\n",
            "The alphabet is vowels: e\n",
            "it is not vowels\n",
            "it is not vowels\n",
            "it is not vowels\n",
            "it is not vowels\n",
            "The alphabet is vowels: e\n",
            "it is not vowels\n",
            "The alphabet is vowels: e\n",
            "it is not vowels\n",
            "The alphabet is vowels: a\n",
            "it is not vowels\n",
            "it is not vowels\n",
            "it is not vowels\n",
            "The alphabet is vowels: u\n",
            "it is not vowels\n",
            "it is not vowels\n",
            "it is not vowels\n",
            "it is not vowels\n",
            "The alphabet is vowels: e\n",
            "it is not vowels\n",
            "it is not vowels\n",
            "it is not vowels\n",
            "it is not vowels\n",
            "it is not vowels\n",
            "it is not vowels\n",
            "The alphabet is vowels: a\n",
            "it is not vowels\n",
            "it is not vowels\n",
            "The alphabet is vowels: i\n",
            "it is not vowels\n",
            "it is not vowels\n",
            "it is not vowels\n",
            "it is not vowels\n",
            "The alphabet is vowels: a\n",
            "it is not vowels\n",
            "it is not vowels\n",
            "The alphabet is vowels: u\n",
            "The alphabet is vowels: a\n",
            "it is not vowels\n",
            "The alphabet is vowels: e\n",
            "it is not vowels\n"
          ]
        }
      ]
    },
    {
      "cell_type": "code",
      "source": [],
      "metadata": {
        "id": "drV6A9DsmvJm"
      },
      "execution_count": null,
      "outputs": []
    }
  ]
}